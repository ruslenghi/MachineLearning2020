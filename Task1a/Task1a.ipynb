{
 "cells": [
  {
   "cell_type": "code",
   "execution_count": 1,
   "metadata": {},
   "outputs": [
    {
     "name": "stdout",
     "output_type": "stream",
     "text": [
      "lambda = 0.01 \t --> avg RMSE with k-fold = 4.980965786648688\n",
      "lambda = 0.1 \t --> avg RMSE with k-fold = 4.980783242792326\n",
      "lambda = 1 \t --> avg RMSE with k-fold = 4.980049578993602\n",
      "lambda = 10 \t --> avg RMSE with k-fold = 4.985353061484008\n",
      "lambda = 100 \t --> avg RMSE with k-fold = 5.166496179181046\n"
     ]
    }
   ],
   "source": [
    "# GROUP: Graphkrone\n",
    "# Members: Marcello Negri     19-945-450\n",
    "#          Riccardo Uslenghi  19-954-262\n",
    "\n",
    "import numpy as np\n",
    "\n",
    "import sklearn\n",
    "from sklearn.linear_model import Ridge\n",
    "from sklearn.metrics import mean_squared_error\n",
    "from sklearn.model_selection import KFold\n",
    "\n",
    "out_file = open(\"solutions.txt\", \"w\")\n",
    "\n",
    "# loading dataset from 'train.csv', skipping first line (labels)\n",
    "dataset = np.loadtxt('train.csv', delimiter=\",\", skiprows=1)\n",
    "\n",
    "Y = dataset[:,1]\n",
    "X = dataset[:,2:]\n",
    "\n",
    "# performing k-fold with 10 folds for each lambda in the range\n",
    "kf = KFold(n_splits=10)\n",
    "lambda_range = [0.01, 0.1, 1, 10, 100]\n",
    "\n",
    "for l in lambda_range:\n",
    "    rmse = []\n",
    "    for train_index, test_index in kf.split(X):\n",
    "        X_train, X_test = X[train_index], X[test_index]\n",
    "        Y_train, Y_test = Y[train_index], Y[test_index]\n",
    "        model = Ridge(alpha=l, fit_intercept=False)\n",
    "        model.fit(X_train,Y_train)\n",
    "        RMSE = np.sqrt(mean_squared_error(Y_test, model.predict(X_test)))\n",
    "        rmse.append(RMSE)\n",
    "    avg = sum(rmse)/len(rmse)\n",
    "    print('lambda = {0} \\t --> avg RMSE with k-fold = {1}'.format(l, avg))\n",
    "    out_file.write('{}\\n'.format(avg))\n",
    "\n",
    "out_file.close()\n"
   ]
  },
  {
   "cell_type": "code",
   "execution_count": null,
   "metadata": {},
   "outputs": [],
   "source": []
  }
 ],
 "metadata": {
  "kernelspec": {
   "display_name": "Python 3",
   "language": "python",
   "name": "python3"
  },
  "language_info": {
   "codemirror_mode": {
    "name": "ipython",
    "version": 3
   },
   "file_extension": ".py",
   "mimetype": "text/x-python",
   "name": "python",
   "nbconvert_exporter": "python",
   "pygments_lexer": "ipython3",
   "version": "3.7.3"
  }
 },
 "nbformat": 4,
 "nbformat_minor": 2
}
